{
 "cells": [
  {
   "cell_type": "markdown",
   "metadata": {},
   "source": [
    "# Lab-8\n"
   ]
  },
  {
   "cell_type": "code",
   "execution_count": 13,
   "metadata": {},
   "outputs": [],
   "source": [
    "import pandas as pd"
   ]
  },
  {
   "cell_type": "markdown",
   "metadata": {},
   "source": [
    "## Q1"
   ]
  },
  {
   "cell_type": "markdown",
   "metadata": {},
   "source": [
    "1)Implement in python of the following problems using Bayes Theorem.\n",
    "\n",
    "a)  \n",
    "    If the students in the college, 60% of the students reside in the hostel and 40% of the students are day\n",
    "    scholars. Previous year results report that 30% of all students who stay in the hostel scored A Grade and \n",
    "    20% of day scholars scored A grade. At the end of the year, one student is chosen at random and found that           he/she has an A grade. What is the probability that the student is a hosteler?\n",
    "    \n",
    "b) Suppose you're testing for a rare disease, and you have the following information:\n",
    "    \n",
    "    1) The disease has a prevalence of 0.01 (1% of the population has the disease).\n",
    "    2) The test is not perfect:\n",
    "    3) The test correctly identifies the disease (true positive) 98% of the time (sensitivity).\n",
    "    4) The test incorrectly indicates the disease (false positive) 2% of the time (1 - specificity).\n",
    "\n",
    "   Calculate the probability of having the disease given a positive test result using Bayes' theorem."
   ]
  },
  {
   "cell_type": "code",
   "execution_count": 14,
   "metadata": {},
   "outputs": [
    {
     "name": "stdout",
     "output_type": "stream",
     "text": [
      "The probability that the student is a hosteler given A grade is: 0.6923076923076923\n"
     ]
    }
   ],
   "source": [
    "# given probabilities\n",
    "P_Hosteler = 0.60\n",
    "P_Day_Scholar = 0.40\n",
    "\n",
    "# conditional probabilities\n",
    "P_A_Grade_Hosteler = 0.30\n",
    "P_A_Grade_Day_Scholar = 0.20\n",
    "\n",
    "# P(A Grade)\n",
    "P_A_Grade = (P_A_Grade_Hosteler * P_Hosteler) + (P_A_Grade_Day_Scholar * P_Day_Scholar)\n",
    "\n",
    "# P(Hosteler | A Grade) using Bayes' theorem\n",
    "P_Hosteler_A_Grade = (P_A_Grade_Hosteler * P_Hosteler) / P_A_Grade\n",
    "\n",
    "print(\"The probability that the student is a hosteler given A grade is:\",P_Hosteler_A_Grade)\n"
   ]
  },
  {
   "cell_type": "code",
   "execution_count": 15,
   "metadata": {},
   "outputs": [
    {
     "name": "stdout",
     "output_type": "stream",
     "text": [
      "The probability of having the disease given a positive test result is: 0.33108108108108103\n"
     ]
    }
   ],
   "source": [
    "# given probability\n",
    "P_Disease = 0.01\n",
    "\n",
    "# conditional probabilities\n",
    "P_Positive_Test_Disease = 0.98  # True Positive\n",
    "P_Positive_Test_No_Disease = 0.02  # False Positive\n",
    "\n",
    "# P(Positive Test)\n",
    "P_Positive_Test = (P_Positive_Test_Disease * P_Disease) + ((1 - P_Disease) * P_Positive_Test_No_Disease)\n",
    "\n",
    "# P(Disease | Positive Test) using Bayes' theorem\n",
    "P_Disease_Positive_Test = (P_Positive_Test_Disease * P_Disease) / P_Positive_Test\n",
    "\n",
    "print(\"The probability of having the disease given a positive test result is:\",P_Disease_Positive_Test)\n"
   ]
  },
  {
   "cell_type": "markdown",
   "metadata": {},
   "source": [
    "## Q2"
   ]
  },
  {
   "cell_type": "markdown",
   "metadata": {},
   "source": [
    "Write a program to implement the naïve Bayesian classifier without using scikit-learn library for the\n",
    "following sample training data set stored as a .CSV file. Calculate the accuracy, precision, and recall for your\n",
    "train/test data set. To classify ‘If the weather is sunny, then the Player should play or not’?"
   ]
  },
  {
   "cell_type": "code",
   "execution_count": 16,
   "metadata": {},
   "outputs": [
    {
     "name": "stdout",
     "output_type": "stream",
     "text": [
      "Play\n"
     ]
    }
   ],
   "source": [
    "# Load the dataset\n",
    "df = pd.read_csv('weather.csv')\n",
    "\n",
    "# class probabilities\n",
    "total_instances = len(df)\n",
    "probability_play_yes = len(df[df['Play'] == 'Yes']) / total_instances\n",
    "probability_play_no = len(df[df['Play'] == 'No']) / total_instances\n",
    "\n",
    "# conditional probabilities for the 'Outlook' feature\n",
    "outlook_probabilities = {}\n",
    "\n",
    "for outlook in df['Outlook'].unique():\n",
    "    df_outlook = df[df['Outlook'] == outlook]\n",
    "    probability_outlook = len(df_outlook) / total_instances\n",
    "    probability_play_yes_given_outlook = len(df_outlook[df_outlook['Play'] == 'Yes']) / len(df_outlook)\n",
    "    outlook_probabilities[outlook] = {\n",
    "        'probability_outlook': probability_outlook,\n",
    "        'probability_play_yes_given_outlook': probability_play_yes_given_outlook\n",
    "    }\n",
    "\n",
    "# probability of playing ('Yes') when it's 'Sunny' using Naive Bayes\n",
    "sunny_outlook = 'Sunny'\n",
    "probability_sunny_given_play_yes = outlook_probabilities[sunny_outlook]['probability_play_yes_given_outlook']\n",
    "probability_sunny = outlook_probabilities[sunny_outlook]['probability_outlook']\n",
    "probability_play_yes_given_sunny = (probability_sunny_given_play_yes * probability_play_yes) / probability_sunny\n",
    "\n",
    "# the probability of not playing ('No') when it's 'Sunny'\n",
    "probability_play_no_given_sunny = 1 - probability_play_yes_given_sunny\n",
    "\n",
    "# Make a decision based on the probabilities\n",
    "if probability_play_yes_given_sunny > probability_play_no_given_sunny:\n",
    "    print(\"Play\")\n",
    "else:\n",
    "    print(\"No Play\")\n"
   ]
  }
 ],
 "metadata": {
  "kernelspec": {
   "display_name": "Python 3 (ipykernel)",
   "language": "python",
   "name": "python3"
  },
  "language_info": {
   "codemirror_mode": {
    "name": "ipython",
    "version": 3
   },
   "file_extension": ".py",
   "mimetype": "text/x-python",
   "name": "python",
   "nbconvert_exporter": "python",
   "pygments_lexer": "ipython3",
   "version": "3.11.5"
  }
 },
 "nbformat": 4,
 "nbformat_minor": 4
}
