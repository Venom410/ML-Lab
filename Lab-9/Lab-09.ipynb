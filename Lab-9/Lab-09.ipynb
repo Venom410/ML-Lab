{
 "cells": [
  {
   "cell_type": "markdown",
   "metadata": {},
   "source": [
    "# Lab -09\n"
   ]
  },
  {
   "cell_type": "code",
   "execution_count": 22,
   "metadata": {},
   "outputs": [
    {
     "data": {
      "text/html": [
       "<div>\n",
       "<style scoped>\n",
       "    .dataframe tbody tr th:only-of-type {\n",
       "        vertical-align: middle;\n",
       "    }\n",
       "\n",
       "    .dataframe tbody tr th {\n",
       "        vertical-align: top;\n",
       "    }\n",
       "\n",
       "    .dataframe thead th {\n",
       "        text-align: right;\n",
       "    }\n",
       "</style>\n",
       "<table border=\"1\" class=\"dataframe\">\n",
       "  <thead>\n",
       "    <tr style=\"text-align: right;\">\n",
       "      <th></th>\n",
       "      <th>X1</th>\n",
       "      <th>X2</th>\n",
       "      <th>Y</th>\n",
       "    </tr>\n",
       "  </thead>\n",
       "  <tbody>\n",
       "    <tr>\n",
       "      <th>0</th>\n",
       "      <td>7</td>\n",
       "      <td>7</td>\n",
       "      <td>Bad</td>\n",
       "    </tr>\n",
       "    <tr>\n",
       "      <th>1</th>\n",
       "      <td>7</td>\n",
       "      <td>4</td>\n",
       "      <td>Bad</td>\n",
       "    </tr>\n",
       "    <tr>\n",
       "      <th>2</th>\n",
       "      <td>3</td>\n",
       "      <td>4</td>\n",
       "      <td>Good</td>\n",
       "    </tr>\n",
       "    <tr>\n",
       "      <th>3</th>\n",
       "      <td>1</td>\n",
       "      <td>4</td>\n",
       "      <td>Good</td>\n",
       "    </tr>\n",
       "    <tr>\n",
       "      <th>4</th>\n",
       "      <td>4</td>\n",
       "      <td>5</td>\n",
       "      <td>Bad</td>\n",
       "    </tr>\n",
       "    <tr>\n",
       "      <th>5</th>\n",
       "      <td>3</td>\n",
       "      <td>5</td>\n",
       "      <td>Good</td>\n",
       "    </tr>\n",
       "    <tr>\n",
       "      <th>6</th>\n",
       "      <td>4</td>\n",
       "      <td>6</td>\n",
       "      <td>Bad</td>\n",
       "    </tr>\n",
       "    <tr>\n",
       "      <th>7</th>\n",
       "      <td>8</td>\n",
       "      <td>7</td>\n",
       "      <td>Bad</td>\n",
       "    </tr>\n",
       "    <tr>\n",
       "      <th>8</th>\n",
       "      <td>7</td>\n",
       "      <td>9</td>\n",
       "      <td>Good</td>\n",
       "    </tr>\n",
       "    <tr>\n",
       "      <th>9</th>\n",
       "      <td>8</td>\n",
       "      <td>8</td>\n",
       "      <td>Bad</td>\n",
       "    </tr>\n",
       "  </tbody>\n",
       "</table>\n",
       "</div>"
      ],
      "text/plain": [
       "   X1   X2     Y\n",
       "0    7   7   Bad\n",
       "1    7   4   Bad\n",
       "2    3   4  Good\n",
       "3    1   4  Good\n",
       "4    4   5   Bad\n",
       "5    3   5  Good\n",
       "6    4   6   Bad\n",
       "7    8   7   Bad\n",
       "8    7   9  Good\n",
       "9    8   8   Bad"
      ]
     },
     "execution_count": 22,
     "metadata": {},
     "output_type": "execute_result"
    }
   ],
   "source": [
    "import pandas as pd\n",
    "import numpy as np\n",
    "import matplotlib.pyplot as plt\n",
    "\n",
    "data = pd.read_csv('dataset.csv')\n",
    "\n",
    "data"
   ]
  },
  {
   "cell_type": "markdown",
   "metadata": {},
   "source": [
    "## Q1\n"
   ]
  },
  {
   "cell_type": "markdown",
   "metadata": {},
   "source": [
    "1. We have data from the questionnaires survey (to ask people opinion) and objective testing with two attributes (acid durability and strength) to classify whether a special paper tissue is good or not. Here is four training samples as follows. Apply the K-nearest neighbour’s (KNN) algorithm when K=2, 3 and 4 to classify an instance (3, 7) as good or bad.\n",
    "    \n",
    "    Implement the above using python without using scikit learn library. Plot the given samples Bad in Red color and Good in green color. Also draw the decision boundary. Calculate the distance using Euclidean, Manhattan, and  Minkowski and compare.   \n",
    "    "
   ]
  },
  {
   "cell_type": "code",
   "execution_count": 28,
   "metadata": {},
   "outputs": [
    {
     "name": "stdout",
     "output_type": "stream",
     "text": [
      "K: 2, Distance: Euclidean => Classification: Cannot be classified\n",
      "K: 2, Distance: Manhattan => Classification: Cannot be classified\n",
      "K: 2, Distance: Minkowski => Classification: Cannot be classified\n",
      "\n",
      "K: 3, Distance: Euclidean => Classification: Bad\n",
      "K: 3, Distance: Manhattan => Classification: Good\n",
      "K: 3, Distance: Minkowski => Classification: Bad\n",
      "\n",
      "K: 4, Distance: Euclidean => Classification: Cannot be classified\n",
      "K: 4, Distance: Manhattan => Classification: Cannot be classified\n",
      "K: 4, Distance: Minkowski => Classification: Cannot be classified\n",
      "\n"
     ]
    },
    {
     "data": {
      "image/png": "[encoded data removed]",
      "text/plain": [
       "<Figure size 576x432 with 1 Axes>"
      ]
     },
     "metadata": {
      "needs_background": "light"
     },
     "output_type": "display_data"
    }
   ],
   "source": [
    "# Instance to classify\n",
    "new_point = np.array([3, 7])\n",
    "\n",
    "#features and target variable\n",
    "X = data[['X1 ', 'X2']].values\n",
    "Y = data['Y'].apply(lambda y: 1 if y == 'Good' else 0).values\n",
    "\n",
    "#distance metrics\n",
    "\n",
    "# Euclidean distance function\n",
    "def euclidean(a, b):\n",
    "    return np.sqrt(np.sum((a - b) ** 2))\n",
    "\n",
    "# Manhattan distance function\n",
    "def manhattan(a, b):\n",
    "    return np.sum(np.abs(a - b))\n",
    "\n",
    "# Minkowski distance function with a default power of 3\n",
    "def minkowski(a, b, p=3):\n",
    "    return np.sum(np.abs(a - b) ** p) ** (1 / p)\n",
    "\n",
    "# KNN classification function\n",
    "def knn(k, dist_func):\n",
    "    distances = [dist_func(x, new_point) for x in X]\n",
    "    sorted_indices = np.argsort(distances)\n",
    "    top_k_indices = sorted_indices[:k]\n",
    "    \n",
    "    good_count = sum(1 for index in top_k_indices if Y[index] == 1)\n",
    "    bad_count = k - good_count\n",
    "\n",
    "    return \"Good\" if good_count > bad_count else (\"Bad\" if good_count < bad_count else \"Cannot be classified\")\n",
    "\n",
    "# List of K values to test\n",
    "k_values = [2, 3, 4]\n",
    "\n",
    "# Looping through different K values and distance metrics\n",
    "for k in k_values:\n",
    "    for dist_func, name in zip([euclidean, manhattan, minkowski], [\"Euclidean\", \"Manhattan\", \"Minkowski\"]):\n",
    "        result = knn(k, dist_func)\n",
    "        print(f\"K: {k}, Distance: {name} => Classification: {result}\")\n",
    "    print()\n",
    "\n",
    "#indices of 'Good' and 'Bad' points\n",
    "good_indices = np.where(Y == 1)\n",
    "bad_indices = np.where(Y == 0)\n",
    "\n",
    "#scatter plot for visualization\n",
    "plt.figure(figsize=(8, 6))\n",
    "plt.scatter(X[good_indices, 0], X[good_indices, 1], c='green', marker='+', label='Good')\n",
    "plt.scatter(X[bad_indices, 0], X[bad_indices, 1], c='red', marker='_', label='Bad')\n",
    "plt.scatter(new_point[0], new_point[1], c='blue', marker='o', label='New Point')\n",
    "\n",
    "plt.xlabel('Acid Durability (seconds)') \n",
    "plt.ylabel('Strength (kg/square meter)')\n",
    "plt.title('KNN Classification')\n",
    "plt.grid(True)\n",
    "plt.legend()\n",
    "plt.show()\n"
   ]
  },
  {
   "cell_type": "markdown",
   "metadata": {},
   "source": [
    "## Q2"
   ]
  },
  {
   "cell_type": "markdown",
   "metadata": {},
   "source": [
    "2. Implement the Question number 1 with using scikit learn library. Plot the given samples Bad in Red color and Good in green color. Also plot the decision boundary. Calculate the distance using Euclidean, Manhattan, and  Minkowski and compare.   "
   ]
  },
  {
   "cell_type": "code",
   "execution_count": 29,
   "metadata": {},
   "outputs": [
    {
     "name": "stdout",
     "output_type": "stream",
     "text": [
      "K: 2, Distance: Euclidean, Classification: Bad\n",
      "K: 2, Distance: Manhattan, Classification: Bad\n",
      "K: 2, Distance: Minkowski, Classification: Bad\n",
      "\n",
      "K: 3, Distance: Euclidean, Classification: Bad\n",
      "K: 3, Distance: Manhattan, Classification: Good\n",
      "K: 3, Distance: Minkowski, Classification: Bad\n",
      "\n",
      "K: 4, Distance: Euclidean, Classification: Bad\n",
      "K: 4, Distance: Manhattan, Classification: Bad\n",
      "K: 4, Distance: Minkowski, Classification: Bad\n",
      "\n"
     ]
    },
    {
     "data": {
      "image/png": "[encoded data removed]",
      "text/plain": [
       "<Figure size 576x432 with 1 Axes>"
      ]
     },
     "metadata": {
      "needs_background": "light"
     },
     "output_type": "display_data"
    }
   ],
   "source": [
    "import pandas as pd\n",
    "import numpy as np\n",
    "import matplotlib.pyplot as plt\n",
    "from sklearn.neighbors import KNeighborsClassifier\n",
    "\n",
    "# Load the dataset from a CSV file\n",
    "data = pd.read_csv('dataset.csv')\n",
    "\n",
    "#features and target variable\n",
    "X = data[['X1 ', 'X2']].values\n",
    "Y = data['Y'].apply(lambda y: 1 if y == 'Good' else 0).values\n",
    "\n",
    "# Specify the new point to classify\n",
    "new_point = np.array([[3, 7]])\n",
    "\n",
    "# List of K values to test\n",
    "k_values = [2, 3, 4]\n",
    "\n",
    "# Looping through different K values and distance metrics\n",
    "for k in k_values:\n",
    "    for metric in ['euclidean', 'manhattan', 'minkowski']:\n",
    "        #K-Nearest Neighbors classifier with the specified K and distance metric\n",
    "        knn = KNeighborsClassifier(n_neighbors=k, metric=metric)\n",
    "        \n",
    "        # Fitting the model with the data\n",
    "        knn.fit(X, Y)\n",
    "        \n",
    "        prediction = knn.predict(new_point)\n",
    "        \n",
    "        print(f\"K: {k}, Distance: {metric.capitalize()}, Classification: {'Good' if prediction == 1 else 'Bad'}\")\n",
    "    print()\n",
    "\n",
    "# Creating a scatter plot for visualization\n",
    "plt.figure(figsize=(8, 6))\n",
    "plt.scatter(X[Y == 1, 0], X[Y == 1, 1], c='green', marker='+', label='Good')\n",
    "plt.scatter(X[Y == 0, 0], X[Y == 0, 1], c='red', marker='_', label='Bad')\n",
    "plt.scatter(new_point[0, 0], new_point[0, 1], c='blue', marker='o', label='New Point')\n",
    "plt.xlabel('Acid Durability (seconds)')\n",
    "plt.ylabel('Strength (kg/square meter)')\n",
    "plt.title('KNN Classification')\n",
    "plt.grid(True)\n",
    "plt.legend()\n",
    "plt.show()\n"
   ]
  },
  {
   "cell_type": "code",
   "execution_count": null,
   "metadata": {},
   "outputs": [],
   "source": []
  }
 ],
 "metadata": {
  "kernelspec": {
   "display_name": "Python 3",
   "language": "python",
   "name": "python3"
  },
  "language_info": {
   "codemirror_mode": {
    "name": "ipython",
    "version": 3
   },
   "file_extension": ".py",
   "mimetype": "text/x-python",
   "name": "python",
   "nbconvert_exporter": "python",
   "pygments_lexer": "ipython3",
   "version": "3.8.3"
  }
 },
 "nbformat": 4,
 "nbformat_minor": 4
}
