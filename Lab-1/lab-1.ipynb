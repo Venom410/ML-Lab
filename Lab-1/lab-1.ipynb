{
 "cells": [
  {
   "cell_type": "code",
   "execution_count": 3,
   "metadata": {},
   "outputs": [
    {
     "name": "stdout",
     "output_type": "stream",
     "text": [
      "[0 1 2 3 4 5 6 7 8]\n",
      "[[0 1 2]\n",
      " [3 4 5]\n",
      " [6 7 8]]\n"
     ]
    }
   ],
   "source": [
    "import numpy as np\n",
    "a = np.array([0, 1, 2, 3, 4, 5, 6, 7, 8])\n",
    "print(a)\n",
    "a=np.arange(9).reshape(3,3)\n",
    "print(a)"
   ]
  },
  {
   "cell_type": "code",
   "execution_count": 12,
   "metadata": {},
   "outputs": [
    {
     "name": "stdout",
     "output_type": "stream",
     "text": [
      "[0 1 2 3 4 5 6 7 8 9]\n",
      "[ 0 -1  2 -1  4 -1  6 -1  8 -1]\n"
     ]
    }
   ],
   "source": [
    "i=0\n",
    "b=np.array([0, 1, 2, 3, 4, 5, 6, 7, 8, 9])\n",
    "print(b)\n",
    "b[b%2!=0] = -1\n",
    "print(b)"
   ]
  },
  {
   "cell_type": "code",
   "execution_count": 30,
   "metadata": {},
   "outputs": [
    {
     "name": "stdout",
     "output_type": "stream",
     "text": [
      "[21 64 86 22 74 55 81 79 90 89]\n",
      "[21  7  3 45 10 29 55  4 37 18]\n",
      "(array([1, 2, 4, 5, 6, 7, 8, 9]),)\n",
      "(array([0]),)\n"
     ]
    }
   ],
   "source": [
    "x = np.array([21, 64, 86, 22, 74, 55, 81, 79, 90, 89]) \n",
    "y = np.array([21, 7, 3, 45, 10, 29, 55, 4, 37, 18])\n",
    "print(x)\n",
    "print(y)\n",
    "print(np.where(x>y))\n",
    "print(np.where(x==y))"
   ]
  },
  {
   "cell_type": "code",
   "execution_count": 29,
   "metadata": {},
   "outputs": [
    {
     "name": "stdout",
     "output_type": "stream",
     "text": [
      "[[ 0  1  2  3  4  5  6  7  8  9 10 11 12 13 14 15 16 17 18 19]\n",
      " [20 21 22 23 24 25 26 27 28 29 30 31 32 33 34 35 36 37 38 39]\n",
      " [40 41 42 43 44 45 46 47 48 49 50 51 52 53 54 55 56 57 58 59]\n",
      " [60 61 62 63 64 65 66 67 68 69 70 71 72 73 74 75 76 77 78 79]\n",
      " [80 81 82 83 84 85 86 87 88 89 90 91 92 93 94 95 96 97 98 99]]\n",
      "[[ 0  1  2  3]\n",
      " [20 21 22 23]\n",
      " [40 41 42 43]\n",
      " [60 61 62 63]\n",
      " [80 81 82 83]]\n"
     ]
    }
   ],
   "source": [
    "data=np.arange(100).reshape(5,-1)\n",
    "print(arr)\n",
    "subset = data[:, 0:4]\n",
    "print(subset)"
   ]
  },
  {
   "cell_type": "code",
   "execution_count": 45,
   "metadata": {},
   "outputs": [
    {
     "name": "stdout",
     "output_type": "stream",
     "text": [
      "[35 33 34 38 34 36 37 32 34 35]\n"
     ]
    }
   ],
   "source": [
    "import random\n",
    "arr=[]\n",
    "arr=np.random.randint(30,40,10)\n",
    "print(arr)"
   ]
  },
  {
   "cell_type": "code",
   "execution_count": 64,
   "metadata": {},
   "outputs": [
    {
     "name": "stdout",
     "output_type": "stream",
     "text": [
      "[[1, 2, 3], [4, 5, 6], [7, 8, 10]]\n",
      "[[7, 8, 10], [4, 5, 6], [1, 2, 3]]\n",
      "[[ 8 10 13]\n",
      " [ 8 10 12]\n",
      " [ 8 10 13]]\n",
      "[[ 18  24  31]\n",
      " [ 54  69  88]\n",
      " [ 91 116 148]]\n",
      "[[-6 -6 -7]\n",
      " [ 0  0  0]\n",
      " [ 6  6  7]]\n",
      "46\n",
      "[12 15 19]\n",
      "[31 30 31]\n",
      "[[ 8 10 13]\n",
      " [ 8 10 12]\n",
      " [ 8 10 13]]\n",
      "[[-6  0  6]\n",
      " [-6  0  6]\n",
      " [-7  0  7]]\n"
     ]
    }
   ],
   "source": [
    "a= [[1, 2, 3], [4, 5, 6], [7, 8, 10]]\n",
    "b = [[7, 8, 10] ,[4, 5, 6], [1, 2, 3]]\n",
    "c = np.add(a,b)\n",
    "d = np.dot(a,b)\n",
    "e = np.subtract(a,b)\n",
    "f=np.sum(a)\n",
    "g=np.sum(b, axis=0)\n",
    "h=np.sum(c, axis=1)\n",
    "print(a)\n",
    "print(b)\n",
    "print(c)\n",
    "print(d)\n",
    "print(e)\n",
    "print(f)\n",
    "print(g)\n",
    "print(h)\n",
    "print(np.sort(c))\n",
    "print(e.transpose())"
   ]
  },
  {
   "cell_type": "code",
   "execution_count": null,
   "metadata": {},
   "outputs": [],
   "source": []
  }
 ],
 "metadata": {
  "kernelspec": {
   "display_name": "Python 3 (ipykernel)",
   "language": "python",
   "name": "python3"
  },
  "language_info": {
   "codemirror_mode": {
    "name": "ipython",
    "version": 3
   },
   "file_extension": ".py",
   "mimetype": "text/x-python",
   "name": "python",
   "nbconvert_exporter": "python",
   "pygments_lexer": "ipython3",
   "version": "3.11.5"
  }
 },
 "nbformat": 4,
 "nbformat_minor": 4
}
